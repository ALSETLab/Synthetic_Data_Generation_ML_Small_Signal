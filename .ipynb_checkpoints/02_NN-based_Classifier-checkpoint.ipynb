{
 "cells": [
  {
   "cell_type": "markdown",
   "metadata": {},
   "source": [
    "Neural Network-based Classifier\n",
    "==============================="
   ]
  },
  {
   "cell_type": "code",
   "execution_count": 9,
   "metadata": {},
   "outputs": [],
   "source": [
    "%run -i import_libraries.py\n",
    "%run -i prediction_plotting.py"
   ]
  },
  {
   "cell_type": "markdown",
   "metadata": {},
   "source": [
    "## Preprocessing Eigenvalues to NN input\n",
    "In this first step, we load the preprocessed data (i.e., eigenvalues and labels) computed in the previous step."
   ]
  },
  {
   "cell_type": "code",
   "execution_count": 3,
   "metadata": {},
   "outputs": [],
   "source": [
    "# Loading normalized eigenvalues\n",
    "with open(\"99_Data/df_normalized_eigenvalues.pkl\", 'rb') as f:\n",
    "    df_normalized_eigenvalues = pickle.load(f)\n",
    "# Loading normalized eigenvalue labels\n",
    "with open(\"99_Data/normalized_ground_truth_data.pkl\", 'rb') as f:\n",
    "    normalized_ground_truth_data = pickle.load(f)\n",
    "\n",
    "tag_labels = normalized_ground_truth_data['tag_label']\n",
    "damping_ratio = normalized_ground_truth_data['damping_ratio']"
   ]
  },
  {
   "cell_type": "markdown",
   "metadata": {},
   "source": [
    "We must rearrange the eigenvalues in a format suitable to the neural network. The `TensorFlow` library does not accept complex inputs. Therefore, eigenvalues must be arranged into a two-feature input representing the real and the imaginary part of each eigenvalue."
   ]
  },
  {
   "cell_type": "code",
   "execution_count": 4,
   "metadata": {},
   "outputs": [
    {
     "name": "stdout",
     "output_type": "stream",
     "text": [
      "eigs_flatten (shape) = (970935, 1)\n",
      "input_features (shape)= (970935, 2)\n",
      "input_labels = (970935, 1)\n",
      "Train data = (728201, 2)\n",
      "Train labels = (728201, 1)\n",
      "Test data = (242734, 2)\n",
      "Test labels = (242734, 1)\n",
      "Train labels (one hot encoding) = (728201, 6)\n",
      "Test labels (one hot encoding) = (242734, 6)\n"
     ]
    }
   ],
   "source": [
    "# Flattening eigs19branches\n",
    "eigs_flatten = np.reshape(np.transpose(df_normalized_eigenvalues.values),\n",
    "                          [df_normalized_eigenvalues.values.shape[0]*df_normalized_eigenvalues.values.shape[1], 1])\n",
    "print(f\"eigs_flatten (shape) = {eigs_flatten.shape}\")\n",
    "      \n",
    "# Initializing input features matrix\n",
    "input_features = np.zeros((eigs_flatten.shape[0], 2))\n",
    "\n",
    "# Populating the input features matrix with the real and imaginary part of the eigenvalues, respectively\n",
    "for row in range(eigs_flatten.shape[0]):\n",
    "    input_features[row][0] = np.real(eigs_flatten[row])\n",
    "    input_features[row][1] = np.imag(eigs_flatten[row])\n",
    "print(f\"input_features (shape)= {input_features.shape}\")\n",
    "\n",
    "# Flattening tag labels (ground truth)\n",
    "input_labels = np.reshape(np.transpose(tag_labels), [tag_labels.shape[0]*tag_labels.shape[1], 1])\n",
    "print(f\"input_labels = {input_labels.shape}\")\n",
    "\n",
    "# Extracting training and testing data using scikit learn functionalities\n",
    "X_train, X_test, Y_train, Y_test = train_test_split(input_features, input_labels, random_state = 0)\n",
    "\n",
    "print(f\"Train data = {X_train.shape}\")\n",
    "print(f\"Train labels = {Y_train.shape}\")\n",
    "print(f\"Test data = {X_test.shape}\")\n",
    "print(f\"Test labels = {Y_test.shape}\")\n",
    "\n",
    "# Converting labels to one-hot encoding\n",
    "lb = LabelBinarizer()\n",
    "\n",
    "T_train = np.float32(lb.fit_transform(Y_train))\n",
    "T_train = np.float32(lb.transform(Y_train))\n",
    "\n",
    "T_test = np.float32(lb.fit_transform(Y_train))\n",
    "T_test = np.float32(lb.transform(Y_test))\n",
    "\n",
    "print(f\"Train labels (one hot encoding) = {T_train.shape}\")\n",
    "print(f\"Test labels (one hot encoding) = {T_test.shape}\")"
   ]
  },
  {
   "cell_type": "markdown",
   "metadata": {},
   "source": [
    "The raw eigenvalue dataset is naturally skewed since there are categories much more frequent than others. To avoid this problem, and given the large amount of data available, we make the training set balanced by selecting the same amount of training instances for each classification group. The reduced balanced training set has 34116 entries."
   ]
  },
  {
   "cell_type": "code",
   "execution_count": 5,
   "metadata": {},
   "outputs": [
    {
     "name": "stdout",
     "output_type": "stream",
     "text": [
      "{1.0: 36843, 2.0: 25312, 3.0: 5686, 4.0: 207371, 5.0: 439513, 6.0: 13476}\n",
      "X_train_red = (34116, 2)\n",
      "Y_train_red = (34116, 1)\n",
      "T_train_red = (34116, 6)\n"
     ]
    }
   ],
   "source": [
    "# Taking the same amount of eigenvalues for the training part\n",
    "unique, counts = np.unique(Y_train, return_counts=True)\n",
    "print(dict(zip(unique, counts)))\n",
    "\n",
    "numeigs_1 = np.where(Y_train == 1)\n",
    "numeigs_1 = np.array(numeigs_1)\n",
    "numeigs_1 = numeigs_1[0,:]\n",
    "\n",
    "numeigs_2 = np.where(Y_train == 2)\n",
    "numeigs_2 = np.array(numeigs_2)\n",
    "numeigs_2 = numeigs_2[0,:]\n",
    "\n",
    "numeigs_3 = np.where(Y_train == 3)\n",
    "numeigs_3 = np.array(numeigs_3)\n",
    "numeigs_3 = numeigs_3[0,:]\n",
    "\n",
    "numeigs_4 = np.where(Y_train == 4)\n",
    "numeigs_4 = np.array(numeigs_4)\n",
    "numeigs_4 = numeigs_4[0,:]\n",
    "\n",
    "numeigs_5 = np.where(Y_train == 5)\n",
    "numeigs_5 = np.array(numeigs_5)\n",
    "numeigs_5 = numeigs_5[0,:]\n",
    "\n",
    "numeigs_6 = np.where(Y_train == 6)\n",
    "numeigs_6 = np.array(numeigs_6)\n",
    "numeigs_6 = numeigs_6[0,:]\n",
    "\n",
    "# Randomizing indexes\n",
    "numeigs_r_1 = np.random.choice(numeigs_1, np.amin(counts))\n",
    "numeigs_r_2 = np.random.choice(numeigs_2, np.amin(counts))\n",
    "numeigs_r_3 = np.random.choice(numeigs_3, np.amin(counts))\n",
    "numeigs_r_4 = np.random.choice(numeigs_4, np.amin(counts))\n",
    "numeigs_r_5 = np.random.choice(numeigs_5, np.amin(counts))\n",
    "numeigs_r_6 = np.random.choice(numeigs_6, np.amin(counts))\n",
    "\n",
    "X_train_red = np.concatenate((X_train[numeigs_r_1,...], X_train[numeigs_r_2,...], \\\n",
    "                             X_train[numeigs_r_3,...], X_train[numeigs_r_4,...], X_train[numeigs_r_5,...], \n",
    "                             X_train[numeigs_r_6,...]), axis = 0)\n",
    "print(f\"X_train_red = {X_train_red.shape}\")\n",
    "\n",
    "Y_train_red = np.concatenate((Y_train[numeigs_r_1,...], Y_train[numeigs_r_2,...], \\\n",
    "                             Y_train[numeigs_r_3,...], Y_train[numeigs_r_4,...], Y_train[numeigs_r_5,...],\n",
    "                             Y_train[numeigs_r_6,...]), axis = 0)\n",
    "print(f\"Y_train_red = {Y_train_red.shape}\")\n",
    "\n",
    "T_train_red = np.concatenate((T_train[numeigs_r_1,...], T_train[numeigs_r_2,...], \\\n",
    "                             T_train[numeigs_r_3,...], T_train[numeigs_r_4,...], T_train[numeigs_r_5,...],\n",
    "                             T_train[numeigs_r_6,...]), axis = 0)\n",
    "print(f\"T_train_red = {T_train_red.shape}\")\n",
    "\n",
    "normalized_testing_training_data_red = {'X_train' : X_train,\n",
    "                                        'X_train_red': X_train_red,\n",
    "                                   'Y_train_red': Y_train_red,\n",
    "                                   'T_train_red': T_train_red,\n",
    "                                    'X_test' : X_test,\n",
    "                                    'Y_test' : Y_test}\n",
    "\n",
    "with open('99_Data/normalized_testing_training_data_red.pkl', 'wb') as f:\n",
    "    pickle.dump(normalized_testing_training_data_red, f, pickle.HIGHEST_PROTOCOL)"
   ]
  },
  {
   "cell_type": "markdown",
   "metadata": {},
   "source": [
    "## Neural Network Architecture\n",
    "\n",
    "The NN consists of six fully-connected layers, four of them with learning parameters. Two dropout layers are added to reduce overfitting and improve generalization performance. The input layer and the two hidden layers employ a ReLU unit as an activation function. Since this is a multi-class classification problem, a softmax activation function is suitable as an output activation. "
   ]
  },
  {
   "cell_type": "code",
   "execution_count": 5,
   "metadata": {},
   "outputs": [
    {
     "name": "stdout",
     "output_type": "stream",
     "text": [
      "WARNING:tensorflow:From /Users/sergio.dorado/Documents/GitHub_Repositories/01_Maintained/Static_Small-Signal_Classification_DL-ML/neural_network.py:12: The name tf.reset_default_graph is deprecated. Please use tf.compat.v1.reset_default_graph instead.\n",
      "\n",
      "WARNING:tensorflow:From /Users/sergio.dorado/Documents/GitHub_Repositories/01_Maintained/Static_Small-Signal_Classification_DL-ML/neural_network.py:17: The name tf.placeholder is deprecated. Please use tf.compat.v1.placeholder instead.\n",
      "\n",
      "WARNING:tensorflow:From /Users/sergio.dorado/Documents/GitHub_Repositories/01_Maintained/Static_Small-Signal_Classification_DL-ML/neural_network.py:24: The name tf.get_variable is deprecated. Please use tf.compat.v1.get_variable instead.\n",
      "\n",
      "WARNING:tensorflow:\n",
      "The TensorFlow contrib module will not be included in TensorFlow 2.0.\n",
      "For more information, please see:\n",
      "  * https://github.com/tensorflow/community/blob/master/rfcs/20180907-contrib-sunset.md\n",
      "  * https://github.com/tensorflow/addons\n",
      "  * https://github.com/tensorflow/io (for I/O related ops)\n",
      "If you depend on functionality not listed there, please file an issue.\n",
      "\n",
      "WARNING:tensorflow:From /Users/sergio.dorado/Documents/GitHub_Repositories/01_Maintained/Static_Small-Signal_Classification_DL-ML/neural_network.py:42: dropout (from tensorflow.python.layers.core) is deprecated and will be removed in a future version.\n",
      "Instructions for updating:\n",
      "Use keras.layers.dropout instead.\n",
      "WARNING:tensorflow:From /Users/sergio.dorado/miniconda3/envs/sd_dev_tf_1/lib/python3.7/site-packages/tensorflow_core/python/layers/core.py:271: Layer.apply (from tensorflow.python.keras.engine.base_layer) is deprecated and will be removed in a future version.\n",
      "Instructions for updating:\n",
      "Please use `layer.__call__` method instead.\n",
      "WARNING:tensorflow:From /Users/sergio.dorado/Documents/GitHub_Repositories/01_Maintained/Static_Small-Signal_Classification_DL-ML/neural_network.py:70: The name tf.train.AdamOptimizer is deprecated. Please use tf.compat.v1.train.AdamOptimizer instead.\n",
      "\n",
      "WARNING:tensorflow:From /Users/sergio.dorado/Documents/GitHub_Repositories/01_Maintained/Static_Small-Signal_Classification_DL-ML/neural_network.py:75: The name tf.global_variables_initializer is deprecated. Please use tf.compat.v1.global_variables_initializer instead.\n",
      "\n",
      "WARNING:tensorflow:From /Users/sergio.dorado/Documents/GitHub_Repositories/01_Maintained/Static_Small-Signal_Classification_DL-ML/neural_network.py:78: The name tf.GPUOptions is deprecated. Please use tf.compat.v1.GPUOptions instead.\n",
      "\n",
      "WARNING:tensorflow:From /Users/sergio.dorado/Documents/GitHub_Repositories/01_Maintained/Static_Small-Signal_Classification_DL-ML/neural_network.py:80: The name tf.Session is deprecated. Please use tf.compat.v1.Session instead.\n",
      "\n",
      "WARNING:tensorflow:From /Users/sergio.dorado/Documents/GitHub_Repositories/01_Maintained/Static_Small-Signal_Classification_DL-ML/neural_network.py:80: The name tf.ConfigProto is deprecated. Please use tf.compat.v1.ConfigProto instead.\n",
      "\n",
      "Device mapping:\n",
      "/job:localhost/replica:0/task:0/device:XLA_CPU:0 -> device: XLA_CPU device\n",
      "\n",
      "2020-07-08 18:35:35\n",
      "WARNING:tensorflow:From /Users/sergio.dorado/Documents/GitHub_Repositories/01_Maintained/Static_Small-Signal_Classification_DL-ML/neural_network.py:97: The name tf.train.Saver is deprecated. Please use tf.compat.v1.train.Saver instead.\n",
      "\n",
      "Num of minibatches: 45\n",
      "Loss after epoch 1 = 1.4505754868189498\n",
      "Loss after epoch 11 = 0.18272318078411945\n",
      "Loss after epoch 21 = 0.16943862272633448\n",
      "Loss after epoch 31 = 0.1631461398469077\n",
      "Loss after epoch 41 = 0.15491718252499903\n",
      "Loss after epoch 51 = 0.15163055542442533\n",
      "Loss after epoch 61 = 0.13756680472029578\n",
      "Loss after epoch 71 = 0.13580683337317573\n",
      "Loss after epoch 81 = 0.13043864054812324\n",
      "Loss after epoch 91 = 0.12655662579668894\n",
      "Loss after epoch 101 = 0.11913095480865903\n",
      "Loss after epoch 111 = 0.11969239049487643\n",
      "Loss after epoch 121 = 0.11808667795525657\n",
      "Loss after epoch 131 = 0.11185045358207492\n",
      "Loss after epoch 141 = 0.10995472537146675\n",
      "Loss after epoch 151 = 0.12014024804035822\n",
      "Loss after epoch 161 = 0.11170133219824896\n",
      "Loss after epoch 171 = 0.10904234217272865\n",
      "Loss after epoch 181 = 0.10982219129800795\n",
      "Loss after epoch 191 = 0.1099545995394389\n",
      "\n",
      "TRAINING FINISHED\n",
      "\n",
      "Training time: 91.696 s\n",
      "Training accuracy: 0.9496716856956482\n",
      "Test accuracy: 0.9704985618591309\n",
      "\n",
      "Elapsed time (prediction): 0.812 s\n",
      "Training accuracy: 0.9496716856956482\n",
      "Test accuracy: 0.9704985618591309\n",
      "WARNING:tensorflow:From /Users/sergio.dorado/Documents/GitHub_Repositories/01_Maintained/Static_Small-Signal_Classification_DL-ML/neural_network.py:187: The name tf.get_collection is deprecated. Please use tf.compat.v1.get_collection instead.\n",
      "\n",
      "2020-07-08 18:37:08\n"
     ]
    }
   ],
   "source": [
    "%run -i neural_network.py\n",
    "NNEigenvalueClassification(X_train_red, T_train_red, X_test, T_test, X_train, T_train, learning_rate = 0.001, num_epochs = 200, minibatch_size = 750)"
   ]
  },
  {
   "cell_type": "markdown",
   "metadata": {},
   "source": [
    "The training information is shown below:"
   ]
  },
  {
   "cell_type": "code",
   "execution_count": 6,
   "metadata": {},
   "outputs": [
    {
     "name": "stderr",
     "output_type": "stream",
     "text": [
      "findfont: Font family ['liberation sans'] not found. Falling back to DejaVu Sans.\n",
      "findfont: Font family ['liberation sans'] not found. Falling back to DejaVu Sans.\n",
      "findfont: Font family ['liberation sans'] not found. Falling back to DejaVu Sans.\n"
     ]
    },
    {
     "data": {
      "image/png": "[encoded data removed]",
      "text/plain": [
       "<Figure size 432x288 with 1 Axes>"
      ]
     },
     "metadata": {
      "needs_background": "light"
     },
     "output_type": "display_data"
    },
    {
     "data": {
      "image/png": "[encoded data removed]",
      "text/plain": [
       "<Figure size 432x288 with 1 Axes>"
      ]
     },
     "metadata": {
      "needs_background": "light"
     },
     "output_type": "display_data"
    },
    {
     "data": {
      "text/plain": [
       "<Figure size 432x288 with 0 Axes>"
      ]
     },
     "metadata": {},
     "output_type": "display_data"
    },
    {
     "data": {
      "image/png": "[encoded data removed]",
      "text/plain": [
       "<Figure size 432x288 with 2 Axes>"
      ]
     },
     "metadata": {
      "needs_background": "light"
     },
     "output_type": "display_data"
    }
   ],
   "source": [
    "plot_nn_performance_info()"
   ]
  },
  {
   "cell_type": "code",
   "execution_count": null,
   "metadata": {},
   "outputs": [],
   "source": [
    "#with open('99_Data/output_NN_test.pkl', 'rb') as f:\n",
    "#    y_pred = pickle.load(f)\n",
    "\n",
    "prediction_plotting(X_test, Y_test, y_pred + 1, \"Neural Network\", fontname = \"Times\")"
   ]
  },
  {
   "cell_type": "code",
   "execution_count": 23,
   "metadata": {},
   "outputs": [
    {
     "name": "stdout",
     "output_type": "stream",
     "text": [
      "[[  9538      4      0      0      0   2917]\n",
      " [     0   8265     45      0      0      0]\n",
      " [     0      0   1874      2      0      0]\n",
      " [     0     17     43  68334    625      0]\n",
      " [     0     53      0      0 146564      0]\n",
      " [     0      0      0      0      0   4453]]\n",
      "0.9243674292995591\n",
      "0.9581305762340576\n"
     ]
    }
   ],
   "source": [
    "print(confusion_matrix(Y_test, y_pred + 1))\n",
    "print(precision_score(Y_test, y_pred + 1, average = 'macro'))\n",
    "print(recall_score(Y_test, y_pred + 1, average = 'macro'))"
   ]
  }
 ],
 "metadata": {
  "kernelspec": {
   "display_name": "Python 3",
   "language": "python",
   "name": "python3"
  },
  "language_info": {
   "codemirror_mode": {
    "name": "ipython",
    "version": 3
   },
   "file_extension": ".py",
   "mimetype": "text/x-python",
   "name": "python",
   "nbconvert_exporter": "python",
   "pygments_lexer": "ipython3",
   "version": "3.7.7"
  }
 },
 "nbformat": 4,
 "nbformat_minor": 4
}
